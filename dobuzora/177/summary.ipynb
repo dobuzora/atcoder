{
 "cells": [
  {
   "cell_type": "markdown",
   "metadata": {},
   "source": [
    "AtCoder Beginner Contest 177\n",
    "==="
   ]
  },
  {
   "cell_type": "markdown",
   "metadata": {},
   "source": [
    "## A.\n",
    "\n",
    "クリア！\n",
    "\n",
    "正解こそしたが、解説によると演算途中で少数になってしまう場合には微妙に答えがずれてしまう場合がケースがある。"
   ]
  },
  {
   "cell_type": "code",
   "execution_count": 3,
   "metadata": {},
   "outputs": [
    {
     "data": {
      "text/plain": [
       "1.0"
      ]
     },
     "execution_count": 3,
     "metadata": {},
     "output_type": "execute_result"
    }
   ],
   "source": [
    "1/3*3"
   ]
  },
  {
   "cell_type": "markdown",
   "metadata": {},
   "source": [
    "が、Pythonは優秀?なので、1になりますね。たしか、以前も同様にPythonだからできたコンテストもありました。\n",
    "プログラミング言語によっては、0.999999のようになり1にならないケースがある模様。\n",
    "\n",
    "この回避方法として、**普段から少数を使わない解き方を覚えておく**と、いいらしい。\n",
    "\n",
    "今回のケースだと、何分で到着できるかではなく、T分後で何メートル移動できるかを求めると掛け算の演算で整数のみで解ける。\n",
    "なるへそ。"
   ]
  },
  {
   "cell_type": "code",
   "execution_count": 5,
   "metadata": {},
   "outputs": [
    {
     "name": "stdout",
     "output_type": "stream",
     "text": [
      "1000 15 80\n",
      "Yes\n"
     ]
    }
   ],
   "source": [
    "d,t,s = map(int, input().split())\n",
    "\n",
    "dist = t * s\n",
    "\n",
    "if dist >= d:\n",
    "    print(\"Yes\")\n",
    "else :\n",
    "    print(\"No\")"
   ]
  },
  {
   "cell_type": "markdown",
   "metadata": {},
   "source": [
    "## B.\n",
    "\n",
    "クリア！\n",
    "\n",
    "特に問題なし。"
   ]
  },
  {
   "cell_type": "code",
   "execution_count": null,
   "metadata": {},
   "outputs": [],
   "source": []
  },
  {
   "cell_type": "markdown",
   "metadata": {},
   "source": [
    "## C.\n",
    "\n",
    "失敗...。\n",
    "\n",
    "問題見た瞬間に解けないやつだとわかった。計算時間的に。\n",
    "正攻法というか、問題の通りの式を立てると解けない。\n",
    "\n",
    "ボクの場合、式通りに実装したため計算量は$O(N^2)$  \n",
    "\n",
    "どうにか$O(N)$に持っていかないとダメみたい。\n",
    "\n",
    "解説では、累積和というものを使う方法があったが、結局理解できず...。\n",
    "\n",
    "式を書き書きしてるとわかった。\n",
    "\n",
    "$ N=4$ のケースを書き出すと\n",
    "$ A_2(A_1) + A_3(A_1 + A_2) + A_4(A_1 + A_2 + A_3) $\n",
    "となったこの通りに実装したら解けた。\n",
    "\n",
    "ちなみにこれもPython様の恩恵で、他の言語の場合modを工夫しないとダメみたい。\n",
    "\n",
    "課題としては、結局累積和の解説はわからなかったので、その理解と書き出してみることですね。"
   ]
  },
  {
   "cell_type": "code",
   "execution_count": 6,
   "metadata": {},
   "outputs": [
    {
     "name": "stdout",
     "output_type": "stream",
     "text": [
      "3\n",
      "1 2 3\n",
      "11\n"
     ]
    }
   ],
   "source": [
    "N = int(input())\n",
    "A = list(map(int, input().split()))\n",
    "\n",
    "mod = 1000000007\n",
    "\n",
    "\n",
    "ans = 0\n",
    "n = A[0]\n",
    "for a in A[1:]:\n",
    "    ans += a * n\n",
    "    n += a\n",
    "\n",
    "print(ans%mod)"
   ]
  },
  {
   "cell_type": "code",
   "execution_count": null,
   "metadata": {},
   "outputs": [],
   "source": []
  },
  {
   "cell_type": "code",
   "execution_count": null,
   "metadata": {},
   "outputs": [],
   "source": []
  },
  {
   "cell_type": "code",
   "execution_count": null,
   "metadata": {},
   "outputs": [],
   "source": []
  }
 ],
 "metadata": {
  "kernelspec": {
   "display_name": "Python 3",
   "language": "python",
   "name": "python3"
  },
  "language_info": {
   "codemirror_mode": {
    "name": "ipython",
    "version": 3
   },
   "file_extension": ".py",
   "mimetype": "text/x-python",
   "name": "python",
   "nbconvert_exporter": "python",
   "pygments_lexer": "ipython3",
   "version": "3.8.5"
  }
 },
 "nbformat": 4,
 "nbformat_minor": 4
}
